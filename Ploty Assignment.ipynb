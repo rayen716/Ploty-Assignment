{
 "cells": [
  {
   "cell_type": "code",
   "execution_count": null,
   "id": "011f7ef1",
   "metadata": {},
   "outputs": [],
   "source": [
    "Q1. Load the \"titanic\" dataset using the load_dataset function of seaborn. Use Plotly express to plot a\n",
    "scatter plot for age and fare columns in the titanic dataset?\n",
    "Ans1. import seaborn as sns\n",
    "import plotly.express as px\n",
    "\n",
    "# Load the titanic dataset\n",
    "titanic = sns.load_dataset('titanic')\n",
    "\n",
    "# Create a scatter plot using Plotly Express\n",
    "fig = px.scatter(titanic, x='age', y='fare')\n",
    "\n",
    "# Show the plot\n",
    "fig.show()\n"
   ]
  },
  {
   "cell_type": "code",
   "execution_count": null,
   "id": "2abc342a",
   "metadata": {},
   "outputs": [],
   "source": [
    "Q2. Using the tips dataset in the Plotly library, plot a box plot using Plotly express?\n",
    "Ans2. import plotly.express as px\n",
    "tips = px.data.tips()\n",
    "\n",
    "fig = px.box(tips, x=\"day\", y=\"total_bill\", color=\"smoker\", notched=True)\n",
    "\n",
    "fig.show()\n"
   ]
  },
  {
   "cell_type": "code",
   "execution_count": null,
   "id": "4e265b0b",
   "metadata": {},
   "outputs": [],
   "source": [
    "Q3. Using the tips dataset in the Plotly library, Plot a histogram for x= \"sex\" and y=\"total_bill\" column in\n",
    "the tips dataset. Also, use the \"smoker\" column with the pattern_shape parameter and the \"day\"\n",
    "column with the color parameter?\n",
    "Ans3. import plotly.express as px\n",
    "tips = px.data.tips()\n",
    "\n",
    "fig = px.histogram(tips, x=\"sex\", y=\"total_bill\", color=\"day\", pattern_shape=\"smoker\")\n",
    "\n",
    "fig.show()"
   ]
  },
  {
   "cell_type": "code",
   "execution_count": null,
   "id": "fff5911e",
   "metadata": {},
   "outputs": [],
   "source": [
    "Q4. Using the iris dataset in the Plotly library, Plot a scatter matrix plot, using the \"species\" column for\n",
    "the color parameter.\n",
    "Note: Use \"sepal_length\", \"sepal_width\", \"petal_length\", \"petal_width\" columns only with the\n",
    "dimensions parameter.\n",
    "Ans4.import plotly.express as px\n",
    "iris = px.data.iris()\n",
    "\n",
    "fig = px.scatter_matrix(iris, dimensions=[\"sepal_length\", \"sepal_width\", \"petal_length\", \"petal_width\"], color=\"species\")\n",
    "\n",
    "fig.show()\n"
   ]
  },
  {
   "cell_type": "code",
   "execution_count": null,
   "id": "db3b7851",
   "metadata": {},
   "outputs": [],
   "source": [
    "Q5. What is Distplot? Using Plotly express, plot a distplot?\n",
    "Ans5. Distplot is a function in the seaborn library used to plot a univariate distribution of observations. It combines a histogram and a kernel density estimate (KDE) plot.\n",
    "import plotly.express as px\n",
    "import numpy as np\n",
    "data = np.random.normal(size=1000)\n",
    "fig = px.histogram(data, nbins=30)\n",
    "fig.show()\n"
   ]
  }
 ],
 "metadata": {
  "kernelspec": {
   "display_name": "Python 3 (ipykernel)",
   "language": "python",
   "name": "python3"
  },
  "language_info": {
   "codemirror_mode": {
    "name": "ipython",
    "version": 3
   },
   "file_extension": ".py",
   "mimetype": "text/x-python",
   "name": "python",
   "nbconvert_exporter": "python",
   "pygments_lexer": "ipython3",
   "version": "3.9.13"
  }
 },
 "nbformat": 4,
 "nbformat_minor": 5
}
